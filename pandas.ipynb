{
 "cells": [
  {
   "cell_type": "code",
   "execution_count": null,
   "metadata": {},
   "outputs": [],
   "source": [
    "import pandas as pd\n",
    "\n",
    "df_excels = pd.read_excel('datasampah.xlsx',sheet_name='data')\n",
    "df_excel = pd.DataFrame(df_excels)\n",
    "df_excel\n"
   ]
  },
  {
   "cell_type": "code",
   "execution_count": null,
   "metadata": {},
   "outputs": [],
   "source": [
    "pilihan_tahun = 2021\n",
    "total_sampah = 0\n",
    "for i, row in df_excel.iterrows():\n",
    "    if row['tahun'] == pilihan_tahun:\n",
    "        total_sampah += row['jumlah_produksi_sampah']\n",
    "\n",
    "print(f\"Total Produksi Sampah di Jawa Barat untuk Tahun {pilihan_tahun}: {total_sampah:} ton\")"
   ]
  },
  {
   "cell_type": "code",
   "execution_count": null,
   "metadata": {},
   "outputs": [],
   "source": [
    "total_pertahun = {}\n",
    "for i, r in df_excel.iterrows():\n",
    "    tahun = r['tahun']\n",
    "    jumlah_sampah = r['jumlah_produksi_sampah']\n",
    "    if tahun in total_pertahun:\n",
    "        total_pertahun[tahun] += jumlah_sampah\n",
    "    else:\n",
    "        total_pertahun[tahun] = jumlah_sampah\n",
    "\n",
    "print(\"Total produksi sampah per tahun:\")\n",
    "for tahun, total in total_pertahun.items():\n",
    "    print(f\"Tahun {tahun}: {total} ton\")"
   ]
  },
  {
   "cell_type": "code",
   "execution_count": null,
   "metadata": {},
   "outputs": [],
   "source": [
    "total_per_kota= {}\n",
    "\n",
    "for index, row in df_excel.iterrows():\n",
    "    kota_kabupaten = row['nama_kabupaten_kota']\n",
    "    tahun = row['tahun']\n",
    "    jumlah_sampah = row['jumlah_produksi_sampah']\n",
    "    \n",
    "    # Menggunakan tuple (kota/kabupaten, tahun) sebagai key\n",
    "    key = (kota_kabupaten, tahun)\n",
    "    \n",
    "    if key in total_per_kota:\n",
    "        total_per_kota[key] += jumlah_sampah\n",
    "    else:\n",
    "        total_per_kota[key] = jumlah_sampah\n",
    "\n",
    "# Menampilkan hasil total per kota/kabupaten per tahun\n",
    "print(\"Total produksi sampah per kota/kabupaten per tahun:\")\n",
    "for (kota_kabupaten, tahun), total in total_per_kota.items():\n",
    "    print(f\"{kota_kabupaten} - Tahun {tahun}: {total} ton\")"
   ]
  },
  {
   "cell_type": "code",
   "execution_count": null,
   "metadata": {},
   "outputs": [],
   "source": [
    "tahun_tertentu = 2021\n",
    "data_tahun_tertentu = df_excel[df_excel[\"tahun\"] == tahun_tertentu]\n",
    "\n",
    "data_tahun_tertentu = data_tahun_tertentu[['nama_kabupaten_kota', 'tahun', 'jumlah_produksi_sampah']]\n",
    "\n",
    "data_pertahun = df_excel.groupby('tahun')['jumlah_produksi_sampah'].sum().reset_index()\n",
    "\n",
    "data_kotkab_pertahun = {}\n",
    "for i, r in df_excel.iterrows():\n",
    "    kotkab = r['nama_kabupaten_kota']\n",
    "    tahun = r['tahun']\n",
    "    sampah = r['jumlah_produksi_sampah']\n",
    "\n",
    "    key = (kotkab, tahun)\n",
    "\n",
    "    if key in data_kotkab_pertahun:\n",
    "        data_kotkab_pertahun[key] += sampah\n",
    "    else:\n",
    "        data_kotkab_pertahun[key] = sampah\n",
    "\n",
    "data_kotkab_pertahun_list = [\n",
    "    {'nama_kabupaten_kota': kotkab, 'tahun': tahun, 'total_sampah': total}\n",
    "    for (kotkab, tahun), total in data_kotkab_pertahun.items()\n",
    "]\n",
    "\n",
    "data_kotkab_pertahun_df = pd.DataFrame(data_kotkab_pertahun_list)\n",
    "\n",
    "# Ekspor ke CSV\n",
    "data_tahun_tertentu.to_csv('data_tahun_tertentu.csv', index=False)\n",
    "data_pertahun.to_csv('data_pertahun.csv', index=False)\n",
    "data_kotkab_pertahun_df.to_csv('data_kotkab_pertahun.csv', index=False)\n",
    "\n",
    "# Ekspor ke Excel\n",
    "output_file = 'datas_sampah.xlsx'\n",
    "\n",
    "with pd.ExcelWriter(output_file, engine='openpyxl') as writer:\n",
    "    #Menyimpan data tahun tertentu ke sheet pertama\n",
    "    data_tahun_tertentu.to_excel(writer, sheet_name=f'Data Tahun ({tahun_tertentu})', index=False)\n",
    "    #Menyimpan data total per tahun ke sheet kedua\n",
    "    data_pertahun.to_excel(writer, sheet_name='Data Pertahun', index=False)\n",
    "    #Menyimpan data kota/kabupaten per tahun ke sheet ketiga\n",
    "    data_kotkab_pertahun_df.to_excel(writer, sheet_name='Data Kotkab Per Tahun', index=False)\n",
    "\n",
    "print(\"Data berhasil diekspor ke file CSV dan Excel.\")\n",
    "\n"
   ]
  }
 ],
 "metadata": {
  "kernelspec": {
   "display_name": "Python 3",
   "language": "python",
   "name": "python3"
  },
  "language_info": {
   "codemirror_mode": {
    "name": "ipython",
    "version": 3
   },
   "file_extension": ".py",
   "mimetype": "text/x-python",
   "name": "python",
   "nbconvert_exporter": "python",
   "pygments_lexer": "ipython3",
   "version": "3.12.7"
  }
 },
 "nbformat": 4,
 "nbformat_minor": 2
}
